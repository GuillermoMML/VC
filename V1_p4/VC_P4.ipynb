{
 "cells": [
  {
   "cell_type": "markdown",
   "metadata": {},
   "source": [
    "Detección de caras con webcam"
   ]
  },
  {
   "cell_type": "code",
   "execution_count": 3,
   "metadata": {},
   "outputs": [],
   "source": [
    "import cv2\n",
    "import time\n",
    "import FaceNormalizationUtils as faceutils\n",
    "# My face detectors interface\n",
    "import FaceDetectors"
   ]
  },
  {
   "cell_type": "markdown",
   "metadata": {},
   "source": [
    "En el bucle de procesamiento, las teclas 'd' y 'e' `permiten respectivamenet cambiar de modelo de detección de caras, y en su caso de máscara de detección del rostro.\n",
    "\n",
    "La ejecución de la siguiente celda produce error al no disponer de los archivos shape_predictor_5_face_landmarks.dat y shape_predictor_68_face_landmarks.dat que por su tamaño no se incluyeron en el repositorio. Pueden descargarse desde el enlace proporcionado en el campus virtual (opción aconsejada), o\n",
    "desde el [repositorio de archivos de dlib](http://dlib.net/files/).\n",
    "\n"
   ]
  },
  {
   "cell_type": "code",
   "execution_count": 6,
   "metadata": {},
   "outputs": [
    {
     "name": "stdout",
     "output_type": "stream",
     "text": [
      "Camera 0\n"
     ]
    }
   ],
   "source": [
    "\n",
    "normalizatorHS = faceutils.Normalization()\n",
    "\n",
    "# Face detectors interface\n",
    "FDet = FaceDetectors.FaceDetector()\n",
    "\n",
    "# Fonts\n",
    "font = cv2.FONT_HERSHEY_SIMPLEX\n",
    "\n",
    "# Webcam connection\n",
    "cap = cv2.VideoCapture(0)\n",
    "# Check for other cameras\n",
    "if not cap.isOpened():\n",
    "    cap = cv2.VideoCapture(1)\n",
    "    if not cap.isOpened():\n",
    "        cap = cv2.VideoCapture(0)\n",
    "        if not cap.isOpened():\n",
    "            print('Camera error')\n",
    "            exit(0)\n",
    "        else:\n",
    "            print('Camera 0')\n",
    "    else:\n",
    "        print('Camera 1')\n",
    "else:\n",
    "    print('Camera 0')\n",
    "\n",
    "    # Face detection and eye model setup\n",
    "imodoF = 0\n",
    "imodoE = 0\n",
    "\n",
    "debug = 0\n",
    "\n",
    "#Set camera resolution\n",
    "cap.set(3,640);\n",
    "cap.set(4,480);\n",
    "\n",
    "while True:\n",
    "    # Get frame\n",
    "    t = time.time()\n",
    "    ret, frame = cap.read()\n",
    "    # For HS normalization\n",
    "    B, G, R = cv2.split(frame)\n",
    "\n",
    "    # Search face with a specific setup for face and eye detection\n",
    "    values = FDet.SingleFaceEyesDetection(frame, FDet.FaceDetectors[imodoF], FDet.EyeDetectors[imodoE])\n",
    "    if values is not None:\n",
    "        face, eyes, shape = values\n",
    "\n",
    "        #draws face container\n",
    "        [x, y , w, h] = face\n",
    "        if x > -1:\n",
    "            cv2.rectangle(frame, (x, y), (x + w, y + h), (255, 0, 0), 2)\n",
    "\n",
    "            # draws eyes and mask if available\n",
    "            [lex, ley, rex, rey] = eyes\n",
    "            if lex > -1:\n",
    "                # Show detected facial elements\n",
    "                if imodoF > 0:\n",
    "                    for (x, y) in shape:\n",
    "                        cv2.circle(frame, (x, y), 2, (255, 255, 255), -1)\n",
    "\n",
    "                cv2.circle(frame, ((int)(lex), (int)(ley)), 4, (0, 0, 255), -1)\n",
    "                cv2.circle(frame, ((int)(rex), (int)(rey)), 4, (0, 255, 0), -1)\n",
    "\n",
    "\n",
    "                # Normalize and show\n",
    "                # color channels\n",
    "                normalizatorHS.normalize_gray_img(B, lex, ley, rex, rey, faceutils.Kind_wraping.HS)\n",
    "                Bnorm = normalizatorHS.normf_image\n",
    "                normalizatorHS.normalize_gray_img(G, lex, ley, rex, rey, faceutils.Kind_wraping.HS)\n",
    "                Gnorm = normalizatorHS.normf_image\n",
    "                normalizatorHS.normalize_gray_img(R, lex, ley, rex, rey, faceutils.Kind_wraping.HS)\n",
    "                Rnorm = normalizatorHS.normf_image\n",
    "                NormBGR = cv2.merge((Bnorm, Gnorm, Rnorm))\n",
    "                cv2.imshow(\"Normalized\", NormBGR)\n",
    "\n",
    "\n",
    "    if debug:\n",
    "        print(\"Processing time : {:.3f}\".format(time.time() - t))\n",
    "\n",
    "    # Show resulting image\n",
    "    cv2.putText(frame, FDet.FaceDetectors[imodoF], (10, 20), font, 0.5, (255, 255, 255), 2, cv2.LINE_AA)\n",
    "    if imodoF == 1 or imodoF == 2:\n",
    "        cv2.putText(frame, FDet.EyeDetectors[imodoE], (50, 20), font, 0.5, (255, 255, 255), 2, cv2.LINE_AA)\n",
    "    cv2.imshow('Cam', frame)\n",
    "    \n",
    "    # Esc to finish\n",
    "    tec = cv2.waitKey(40)\n",
    "    if tec & tec == 27:  # Esc\n",
    "        break\n",
    "    # Face detector change\n",
    "    elif tec & 0xFF == ord('d'):\n",
    "        imodoF = imodoF + 1\n",
    "        if imodoF >= len(FDet.FaceDetectors):\n",
    "            imodoF = 0\n",
    "    #Eye detector change\n",
    "    elif tec & 0xFF == ord('e'):\n",
    "        imodoE = imodoE + 1\n",
    "        if imodoE >= len(FDet.EyeDetectors):\n",
    "            imodoE = 0\n",
    "\n",
    "# Close windoews and release camera\n",
    "cap.release()\n",
    "cv2.destroyAllWindows()"
   ]
  },
  {
   "cell_type": "code",
   "execution_count": null,
   "metadata": {},
   "outputs": [],
   "source": []
  },
  {
   "cell_type": "code",
   "execution_count": 27,
   "metadata": {},
   "outputs": [
    {
     "name": "stdout",
     "output_type": "stream",
     "text": [
      "Camera 0\n"
     ]
    },
    {
     "ename": "ValueError",
     "evalue": "could not broadcast input array from shape (219,219,4) into shape (0,219,3)",
     "output_type": "error",
     "traceback": [
      "\u001b[1;31m---------------------------------------------------------------------------\u001b[0m",
      "\u001b[1;31mValueError\u001b[0m                                Traceback (most recent call last)",
      "\u001b[1;32mc:\\Users\\guill\\OneDrive\\Documentos\\VC\\VC\\V1_p4\\VC_P4.ipynb Cell 6\u001b[0m line \u001b[0;36m4\n\u001b[0;32m     <a href='vscode-notebook-cell:/c%3A/Users/guill/OneDrive/Documentos/VC/VC/V1_p4/VC_P4.ipynb#W5sZmlsZQ%3D%3D?line=40'>41</a>\u001b[0m pumpkin_y \u001b[39m=\u001b[39m y \u001b[39m-\u001b[39m resized_image\u001b[39m.\u001b[39mshape[\u001b[39m0\u001b[39m]\n\u001b[0;32m     <a href='vscode-notebook-cell:/c%3A/Users/guill/OneDrive/Documentos/VC/VC/V1_p4/VC_P4.ipynb#W5sZmlsZQ%3D%3D?line=42'>43</a>\u001b[0m \u001b[39m# Colocamos la calabaza en la cabeza\u001b[39;00m\n\u001b[1;32m---> <a href='vscode-notebook-cell:/c%3A/Users/guill/OneDrive/Documentos/VC/VC/V1_p4/VC_P4.ipynb#W5sZmlsZQ%3D%3D?line=43'>44</a>\u001b[0m frame[pumpkin_y:pumpkin_y \u001b[39m+\u001b[39;49m resized_image\u001b[39m.\u001b[39;49mshape[\u001b[39m0\u001b[39;49m], pumpkin_x:pumpkin_x \u001b[39m+\u001b[39;49m resized_image\u001b[39m.\u001b[39;49mshape[\u001b[39m1\u001b[39;49m]] \u001b[39m=\u001b[39m resized_image\n\u001b[0;32m     <a href='vscode-notebook-cell:/c%3A/Users/guill/OneDrive/Documentos/VC/VC/V1_p4/VC_P4.ipynb#W5sZmlsZQ%3D%3D?line=45'>46</a>\u001b[0m \u001b[39m#Aplicamos filtros al frame\u001b[39;00m\n\u001b[0;32m     <a href='vscode-notebook-cell:/c%3A/Users/guill/OneDrive/Documentos/VC/VC/V1_p4/VC_P4.ipynb#W5sZmlsZQ%3D%3D?line=47'>48</a>\u001b[0m cv2\u001b[39m.\u001b[39mimshow(\u001b[39m'\u001b[39m\u001b[39mHalloween\u001b[39m\u001b[39m'\u001b[39m,frame)\n",
      "\u001b[1;31mValueError\u001b[0m: could not broadcast input array from shape (219,219,4) into shape (0,219,3)"
     ]
    }
   ],
   "source": [
    "import cv2\n",
    "import imutils #redimensionar\n",
    "import numpy as np\n",
    "\n",
    "cap = cv2.VideoCapture(0)\n",
    "pumpkin = cv2.imread(\"pumpkin3.png\",cv2.IMREAD_UNCHANGED)\n",
    "#print('pumpkin.shape =',pumpkin.shape)\n",
    "#cv2.imshow('pumpkin',pumpkin[:,:,3])\n",
    "faceClassif = cv2.CascadeClassifier(cv2.data.haarcascades + \"haarcascade_frontalface_default.xml\")\n",
    "\n",
    "# Check for other cameras\n",
    "if not cap.isOpened():\n",
    "    cap = cv2.VideoCapture(1)\n",
    "    if not cap.isOpened():\n",
    "        cap = cv2.VideoCapture(0)\n",
    "        if not cap.isOpened():\n",
    "            print('Camera error')\n",
    "            exit(0)\n",
    "        else:\n",
    "            print('Camera 0')\n",
    "    else:\n",
    "        print('Camera 1')\n",
    "else:\n",
    "    print('Camera 0')\n",
    "\n",
    "\n",
    "while True:\n",
    "  ret, frame = cap.read()\n",
    "  if ret == False:\n",
    "    break\n",
    "  \n",
    "  faces = faceClassif.detectMultiScale(frame,1.3,5)\n",
    " \n",
    "  for (x,y,w,h) in faces:\n",
    "    #cv2.rectangle(frame, (x - 50, y - 25), (x + w+50, y + h+25), (0, 255, 0), 2)\n",
    "      #Redimensionar la imagen \n",
    "    resized_image = imutils.resize(pumpkin,width=w,height=h)\n",
    "    filas_img = resized_image.shape[0]\n",
    "    col_img = w\n",
    "\n",
    "    n_frame = frame[y: y + h, x: x + w]\n",
    "    mask = resized_image[:,:,3]\n",
    "    mask_inv=cv2.bitwise_not(mask)\n",
    "    bg_black= cv2.bitwise_and(resized_image,resized_image,mask=mask)\n",
    "    bg_black= bg_black[:,:,0:3]\n",
    "    bg_frame = cv2.bitwise_and(n_frame,n_frame,mask=mask_inv)\n",
    "\n",
    "    #Sumamos las dos imagenes\n",
    "\n",
    "    final_pumpki = cv2.add(bg_black,bg_frame)\n",
    "    frame[y: y + h, x: x + w] = final_pumpki\n",
    "    \n",
    "    #Aplicamos filtros al frame\n",
    "  \n",
    "    cv2.imshow('Halloween',frame)\n",
    "    key = cv2.waitKey(1) & 0xFF\n",
    "\n",
    "  if key == 27:\n",
    "      break\n",
    "\n",
    "\n",
    "# Liberamos los recursos\n",
    "cap.release()\n",
    "cv2.destroyAllWindows()\n"
   ]
  },
  {
   "cell_type": "code",
   "execution_count": null,
   "metadata": {},
   "outputs": [],
   "source": []
  }
 ],
 "metadata": {
  "kernelspec": {
   "display_name": "Python 3.7.3 ('FACES')",
   "language": "python",
   "name": "python3"
  },
  "language_info": {
   "codemirror_mode": {
    "name": "ipython",
    "version": 3
   },
   "file_extension": ".py",
   "mimetype": "text/x-python",
   "name": "python",
   "nbconvert_exporter": "python",
   "pygments_lexer": "ipython3",
   "version": "3.11.5"
  },
  "vscode": {
   "interpreter": {
    "hash": "ea3a1ee99ce326e593ddb52cd278556d527fcb6552c40e2a47b1efb9d0183637"
   }
  }
 },
 "nbformat": 4,
 "nbformat_minor": 2
}
