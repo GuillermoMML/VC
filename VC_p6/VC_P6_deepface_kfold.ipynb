{
 "cells": [
  {
   "cell_type": "code",
   "execution_count": 1,
   "id": "pediatric-audit",
   "metadata": {},
   "outputs": [
    {
     "name": "stderr",
     "output_type": "stream",
     "text": [
      "2023-12-05 15:58:15.525458: I tensorflow/core/platform/cpu_feature_guard.cc:182] This TensorFlow binary is optimized to use available CPU instructions in performance-critical operations.\n",
      "To enable the following instructions: AVX2 FMA, in other operations, rebuild TensorFlow with the appropriate compiler flags.\n"
     ]
    }
   ],
   "source": [
    "import os\n",
    "import cv2\n",
    "import numpy as np\n",
    "from deepface import DeepFace\n",
    "from deepface.commons import functions\n",
    "\n",
    "from time import time\n",
    "\n",
    "from sklearn.model_selection import StratifiedKFold\n",
    "from sklearn.metrics import precision_score, recall_score\n",
    "from sklearn.metrics import classification_report\n",
    "from sklearn.metrics import confusion_matrix\n",
    "from sklearn.preprocessing import MinMaxScaler\n",
    "from sklearn.model_selection import GridSearchCV\n",
    "from sklearn.svm import SVC\n",
    "from sklearn.neighbors import KNeighborsClassifier"
   ]
  },
  {
   "cell_type": "markdown",
   "id": "textile-vulnerability",
   "metadata": {},
   "source": [
    "# Definición de funciones "
   ]
  },
  {
   "cell_type": "code",
   "execution_count": 2,
   "id": "criminal-negative",
   "metadata": {},
   "outputs": [],
   "source": [
    "def GetSVMPredictions(X_train, X_test, y_train, y_test):\n",
    "    \n",
    "    print(\"+++++++++++++++++++++++++++++++++++++++++++\\n\")\n",
    "    print(\"SVM Normalization...\")\n",
    "    scaler = MinMaxScaler()\n",
    "    train_X = scaler.fit_transform(X_train)\n",
    "    test_X = scaler.transform(X_test)\n",
    "\n",
    "    print(\"SVM training...\")\n",
    "    t0 = time()\n",
    "    parameters = {'C': [1e3, 5e3, 1e4, 5e4, 1e5],\n",
    "                  'gamma': [0.0001, 0.0005, 0.001, 0.005, 0.01, 0.1],}\n",
    "    # Grid serach across parameter range\n",
    "    clf = GridSearchCV(\n",
    "        SVC(kernel='rbf', class_weight='balanced'), parameters, cv=5\n",
    "    )\n",
    "    clf = clf.fit(train_X, y_train)\n",
    "    print(\"done in %0.3fs\" % (time() - t0))\n",
    "    print(\"Best estimator found by grid search:\")\n",
    "    print(clf.best_estimator_)\n",
    "\n",
    "\n",
    "    print(\"Predicting\")\n",
    "    t0 = time()\n",
    "    y_pred = clf.predict(test_X)\n",
    "    print(\"done in %0.3fs\" % (time() - t0))\n",
    "    \n",
    "    return y_pred, y_test\n",
    "\n",
    "def GetKNNPredictions(k, X_train, X_test, y_train, y_test):\n",
    "    \n",
    "    t0 = time()\n",
    "    # k = 5 \n",
    "    model_px = KNeighborsClassifier(n_neighbors = k) \n",
    "\n",
    "    # fdtraining of model \n",
    "    model_px.fit(X_train, y_train) \n",
    "    print(\"done in %0.3fs\" % (time() - t0))\n",
    "\n",
    "    print(\"Predicting...\")\n",
    "    t0 = time()\n",
    "    y_pred=model_px.predict(X_test)\n",
    "\n",
    "    print(\"done in %0.3fs\" % (time() - t0))\n",
    "    \n",
    "  \n",
    "    return y_pred, y_test"
   ]
  },
  {
   "cell_type": "code",
   "execution_count": 4,
   "id": "favorite-barbados",
   "metadata": {},
   "outputs": [],
   "source": [
    "def calc_embs(X, batch_size=2):\n",
    "    norm_images = prewhiten(X)\n",
    "    pd = []\n",
    "    for start in range(0, len(norm_images), batch_size):\n",
    "        pd.append(model.predict_on_batch(norm_images[start:start+batch_size]))\n",
    "    return l2_normalize(np.concatenate(pd))\n",
    "\n",
    "def l2_normalize(x, axis=-1, epsilon=1e-10):\n",
    "    output = x / np.sqrt(np.maximum(np.sum(np.square(x), axis=axis, keepdims=True), epsilon))\n",
    "    return output\n",
    "\n",
    "def prewhiten(x):\n",
    "    if x.ndim == 4:\n",
    "        axis = (1, 2, 3)\n",
    "        size = x[0].size\n",
    "    elif x.ndim == 3:\n",
    "        axis = (0, 1, 2)\n",
    "        size = x.size\n",
    "    else:\n",
    "        raise ValueError('Dimension should be 3 or 4')\n",
    "\n",
    "    mean = np.mean(x, axis=axis, keepdims=True)\n",
    "    std = np.std(x, axis=axis, keepdims=True)\n",
    "    std_adj = np.maximum(std, 1.0/np.sqrt(size))\n",
    "    y = (x - mean) / std_adj\n",
    "    return y\n",
    "\n",
    "\n",
    "def LoadDataset(folder, ext):\n",
    "    # Contador de número de clases del conjunto\n",
    "    nclasses = 0\n",
    "    # Contador de muestras por clase\n",
    "    nperclass = []\n",
    "    # Etiqueta de cada clase (nombre de la subcarpeta)\n",
    "    classlabels = []\n",
    "    # Inicializa estructuras de datos y sus correpondientes etiquetas\n",
    "    X = []\n",
    "    Y = []\n",
    "\n",
    "    preprocessing = 1\n",
    "\n",
    "    # Asume que en la ruta indicada hay una subcarpeta por clase\n",
    "    for class_name in os.listdir(folder):\n",
    "        # Cada subcarpeta implica una clase más\n",
    "        nclasses += 1\n",
    "        # Inicialmente esta clase no tiene muestras\n",
    "        nsamples = 0    \n",
    "\n",
    "        # Compone la ruta\n",
    "        class_folder = os.path.join(folder, class_name)\n",
    "        for file_name in os.listdir(class_folder):\n",
    "            # Asume imágenes en formato ext\n",
    "            if file_name.endswith(ext):\n",
    "                # Lee la imagen\n",
    "                image = cv2.imread (os.path.join(class_folder, file_name))  \n",
    "\n",
    "                # Obtiene embeddings\n",
    "                img1 = cv2.resize(image, dim, interpolation = cv2.INTER_AREA)\n",
    "\n",
    "                # Get embeddings after preprocessing\n",
    "                if preprocessing == 1:\n",
    "                    img_embedding = calc_embs(np.array([img1]))\n",
    "                else:\n",
    "                    img_embedding = model.predict(img1[None,...])\n",
    "\n",
    "                X.append(img_embedding[0])\n",
    "\n",
    "                # Añade etiqueta numérica de la muestra\n",
    "                Y.append(nclasses-1)\n",
    "\n",
    "                #Incrementa el número de muestras\n",
    "                nsamples += 1\n",
    "\n",
    "        nperclass.append(nsamples)\n",
    "        classlabels.append(class_name)\n",
    "\n",
    "    #Convierte a numpy array X e Y\n",
    "    X = np.array(X,dtype='float32')\n",
    "    Y = np.array(Y,dtype='float64')\n",
    "\n",
    "    # Muestra datos del conjunto leído\n",
    "    # Depuración\n",
    "    print(\"Features\")\n",
    "    print(X.shape)\n",
    "    print(Y.shape)\n",
    "    # Obtiene número de muestras y características\n",
    "    n_samples , n_features = X.shape\n",
    "    # Obtiene nombres de las clases\n",
    "    class_names = np.array(classlabels)\n",
    "    n_classes = class_names.shape[0]\n",
    "    \n",
    "    return X, Y, n_samples, n_features, n_classes, classlabels, nperclass, class_names\n",
    "\n"
   ]
  },
  {
   "cell_type": "markdown",
   "id": "advanced-tissue",
   "metadata": {},
   "source": [
    "# Carga conjuntos de datos\n",
    "\n",
    "Se proporciona la carpeta, a través de la variable folder, donde cada subcarpeta se corresponde con una clase.\n",
    "Cada clase contiene muestras en forma de imágenes jpg, todas del mismo tamaño. Obtiene embeddings Facenet"
   ]
  },
  {
   "cell_type": "code",
   "execution_count": 5,
   "id": "restricted-pursuit",
   "metadata": {},
   "outputs": [
    {
     "name": "stdout",
     "output_type": "stream",
     "text": [
      "facenet_weights.h5 will be downloaded...\n"
     ]
    },
    {
     "name": "stderr",
     "output_type": "stream",
     "text": [
      "Downloading...\n",
      "From: https://github.com/serengil/deepface_models/releases/download/v1.0/facenet_weights.h5\n",
      "To: /Users/omar/.deepface/weights/facenet_weights.h5\n",
      "100%|██████████| 92.2M/92.2M [00:20<00:00, 4.42MB/s]\n"
     ]
    },
    {
     "name": "stdout",
     "output_type": "stream",
     "text": [
      "Loading dataset\n"
     ]
    },
    {
     "ename": "FileNotFoundError",
     "evalue": "[Errno 2] No such file or directory: 'C:/Users/otsed/Desktop/Docencia/VC/DatabaseGender59x65'",
     "output_type": "error",
     "traceback": [
      "\u001b[0;31m---------------------------------------------------------------------------\u001b[0m",
      "\u001b[0;31mFileNotFoundError\u001b[0m                         Traceback (most recent call last)",
      "\u001b[1;32m/Users/omar/Desktop/VC/VC/VC_p6/VC_P6_deepface_kfold.ipynb Celda 6\u001b[0m line \u001b[0;36m1\n\u001b[1;32m      <a href='vscode-notebook-cell:/Users/omar/Desktop/VC/VC/VC_p6/VC_P6_deepface_kfold.ipynb#W5sZmlsZQ%3D%3D?line=7'>8</a>\u001b[0m folder \u001b[39m=\u001b[39m \u001b[39m\"\u001b[39m\u001b[39mC:/Users/otsed/Desktop/Docencia/VC/DatabaseGender59x65\u001b[39m\u001b[39m\"\u001b[39m \u001b[39m#portátil\u001b[39;00m\n\u001b[1;32m     <a href='vscode-notebook-cell:/Users/omar/Desktop/VC/VC/VC_p6/VC_P6_deepface_kfold.ipynb#W5sZmlsZQ%3D%3D?line=9'>10</a>\u001b[0m \u001b[39mprint\u001b[39m(\u001b[39m'\u001b[39m\u001b[39mLoading dataset\u001b[39m\u001b[39m'\u001b[39m)\n\u001b[0;32m---> <a href='vscode-notebook-cell:/Users/omar/Desktop/VC/VC/VC_p6/VC_P6_deepface_kfold.ipynb#W5sZmlsZQ%3D%3D?line=10'>11</a>\u001b[0m X, Y, nsamples, class_name, nperclass, classlabels, width, height \u001b[39m=\u001b[39m LoadDataset(folder,\u001b[39m'\u001b[39m\u001b[39m.jpg\u001b[39m\u001b[39m'\u001b[39m)\n\u001b[1;32m     <a href='vscode-notebook-cell:/Users/omar/Desktop/VC/VC/VC_p6/VC_P6_deepface_kfold.ipynb#W5sZmlsZQ%3D%3D?line=12'>13</a>\u001b[0m \u001b[39m#Convierte a numpy array X e Y\u001b[39;00m\n\u001b[1;32m     <a href='vscode-notebook-cell:/Users/omar/Desktop/VC/VC/VC_p6/VC_P6_deepface_kfold.ipynb#W5sZmlsZQ%3D%3D?line=13'>14</a>\u001b[0m X \u001b[39m=\u001b[39m np\u001b[39m.\u001b[39marray(X,dtype\u001b[39m=\u001b[39m\u001b[39m'\u001b[39m\u001b[39mfloat32\u001b[39m\u001b[39m'\u001b[39m)\n",
      "\u001b[1;32m/Users/omar/Desktop/VC/VC/VC_p6/VC_P6_deepface_kfold.ipynb Celda 6\u001b[0m line \u001b[0;36m4\n\u001b[1;32m     <a href='vscode-notebook-cell:/Users/omar/Desktop/VC/VC/VC_p6/VC_P6_deepface_kfold.ipynb#W5sZmlsZQ%3D%3D?line=39'>40</a>\u001b[0m preprocessing \u001b[39m=\u001b[39m \u001b[39m1\u001b[39m\n\u001b[1;32m     <a href='vscode-notebook-cell:/Users/omar/Desktop/VC/VC/VC_p6/VC_P6_deepface_kfold.ipynb#W5sZmlsZQ%3D%3D?line=41'>42</a>\u001b[0m \u001b[39m# Asume que en la ruta indicada hay una subcarpeta por clase\u001b[39;00m\n\u001b[0;32m---> <a href='vscode-notebook-cell:/Users/omar/Desktop/VC/VC/VC_p6/VC_P6_deepface_kfold.ipynb#W5sZmlsZQ%3D%3D?line=42'>43</a>\u001b[0m \u001b[39mfor\u001b[39;00m class_name \u001b[39min\u001b[39;00m os\u001b[39m.\u001b[39mlistdir(folder):\n\u001b[1;32m     <a href='vscode-notebook-cell:/Users/omar/Desktop/VC/VC/VC_p6/VC_P6_deepface_kfold.ipynb#W5sZmlsZQ%3D%3D?line=43'>44</a>\u001b[0m     \u001b[39m# Cada subcarpeta implica una clase más\u001b[39;00m\n\u001b[1;32m     <a href='vscode-notebook-cell:/Users/omar/Desktop/VC/VC/VC_p6/VC_P6_deepface_kfold.ipynb#W5sZmlsZQ%3D%3D?line=44'>45</a>\u001b[0m     nclasses \u001b[39m+\u001b[39m\u001b[39m=\u001b[39m \u001b[39m1\u001b[39m\n\u001b[1;32m     <a href='vscode-notebook-cell:/Users/omar/Desktop/VC/VC/VC_p6/VC_P6_deepface_kfold.ipynb#W5sZmlsZQ%3D%3D?line=45'>46</a>\u001b[0m     \u001b[39m# Inicialmente esta clase no tiene muestras\u001b[39;00m\n",
      "\u001b[0;31mFileNotFoundError\u001b[0m: [Errno 2] No such file or directory: 'C:/Users/otsed/Desktop/Docencia/VC/DatabaseGender59x65'"
     ]
    }
   ],
   "source": [
    "# Modelos disponibles ['VGG-Face', 'Facenet', 'OpenFace', 'DeepFace', 'DeepID', 'Dlib']\n",
    "model = DeepFace.build_model(\"Facenet\")\n",
    "target_size = model.layers[0].input_shape\n",
    "dim = (int(target_size[0][1]), int(target_size[0][2]))\n",
    "\n",
    "\n",
    "#MODIFICAR INDICANDO RUTA EN TU EQUIPO. EVITAR TILDES\n",
    "folder = \"C:/Users/otsed/Desktop/Docencia/VC/DatabaseGender59x65\" #portátil\n",
    "\n",
    "print('Loading dataset')\n",
    "X, Y, nsamples, class_name, nperclass, classlabels, width, height = LoadDataset(folder,'.jpg')\n",
    "\n",
    "#Convierte a numpy array X e Y\n",
    "X = np.array(X,dtype='float32')\n",
    "Y = np.array(Y,dtype='float64')\n",
    "\n",
    "# Obtiene número de muestras y características\n",
    "n_samples , n_features = X.shape\n",
    "# Obtiene nombres de las clases\n",
    "class_names = np.array(classlabels)\n",
    "n_classes = class_names.shape[0]\n",
    "\n",
    "print(\"Dataset info:\")\n",
    "print(\"# samples: %d\" % n_samples)\n",
    "print(\"# features: %d\" % n_features)\n",
    "print(\"# classes: %d\" % n_classes)\n",
    "print(\"classes %s\" % classlabels)\n",
    "print(\"samples per class %s\" % str(nperclass)[1:-1] )\n",
    "\n",
    "\n"
   ]
  },
  {
   "cell_type": "markdown",
   "id": "1dd33ba7",
   "metadata": {},
   "source": [
    "# Diseña conjunto experimental k-fold\n",
    "\n",
    "Divide los datos k veces en conjunto de entrenamiento y test"
   ]
  },
  {
   "cell_type": "code",
   "execution_count": null,
   "id": "2ebca6a3",
   "metadata": {},
   "outputs": [],
   "source": [
    "# StratifiedKFold\n",
    "# Define el número de subconjuntos a considerar\n",
    "kfold = 5\n",
    "skf = StratifiedKFold(n_splits=kfold, random_state=4, shuffle=True)\n",
    "#Distribución de muestras por fold\n",
    "fold = 1\n",
    "for train_index, test_index in skf.split(X, Y):\n",
    "    #print(\"TRAIN:\", train_index, \"TEST:\", test_index)\n",
    "    print(\"Fold %d\" % fold)\n",
    "    print(\"# samples in training set %d\" % train_index.shape[0])\n",
    "    print(\"# samples in test set %d\" % test_index.shape[0])\n",
    "    fold += 1"
   ]
  },
  {
   "cell_type": "markdown",
   "id": "material-sensitivity",
   "metadata": {},
   "source": [
    "# Lanza experimento"
   ]
  },
  {
   "cell_type": "code",
   "execution_count": 6,
   "id": "meaning-jenny",
   "metadata": {},
   "outputs": [
    {
     "ename": "NameError",
     "evalue": "name 'kfold' is not defined",
     "output_type": "error",
     "traceback": [
      "\u001b[0;31m---------------------------------------------------------------------------\u001b[0m",
      "\u001b[0;31mNameError\u001b[0m                                 Traceback (most recent call last)",
      "\u001b[1;32m/Users/omar/Desktop/VC/VC/VC_p6/VC_P6_deepface_kfold.ipynb Celda 10\u001b[0m line \u001b[0;36m8\n\u001b[1;32m      <a href='vscode-notebook-cell:/Users/omar/Desktop/VC/VC/VC_p6/VC_P6_deepface_kfold.ipynb#X12sZmlsZQ%3D%3D?line=5'>6</a>\u001b[0m \u001b[39m# Recorre folds\u001b[39;00m\n\u001b[1;32m      <a href='vscode-notebook-cell:/Users/omar/Desktop/VC/VC/VC_p6/VC_P6_deepface_kfold.ipynb#X12sZmlsZQ%3D%3D?line=6'>7</a>\u001b[0m fold \u001b[39m=\u001b[39m \u001b[39m1\u001b[39m\n\u001b[0;32m----> <a href='vscode-notebook-cell:/Users/omar/Desktop/VC/VC/VC_p6/VC_P6_deepface_kfold.ipynb#X12sZmlsZQ%3D%3D?line=7'>8</a>\u001b[0m \u001b[39mwhile\u001b[39;00m fold \u001b[39m<\u001b[39m\u001b[39m=\u001b[39m kfold:\n\u001b[1;32m      <a href='vscode-notebook-cell:/Users/omar/Desktop/VC/VC/VC_p6/VC_P6_deepface_kfold.ipynb#X12sZmlsZQ%3D%3D?line=8'>9</a>\u001b[0m     accs, precs, recs \u001b[39m=\u001b[39m [], [], []\n\u001b[1;32m     <a href='vscode-notebook-cell:/Users/omar/Desktop/VC/VC/VC_p6/VC_P6_deepface_kfold.ipynb#X12sZmlsZQ%3D%3D?line=9'>10</a>\u001b[0m     \u001b[39mfor\u001b[39;00m train_index, test_index \u001b[39min\u001b[39;00m skf\u001b[39m.\u001b[39msplit(X, Y):\n\u001b[1;32m     <a href='vscode-notebook-cell:/Users/omar/Desktop/VC/VC/VC_p6/VC_P6_deepface_kfold.ipynb#X12sZmlsZQ%3D%3D?line=10'>11</a>\u001b[0m         \u001b[39m#print(\"TRAIN:\", train_index, \"TEST:\", test_index)\u001b[39;00m\n",
      "\u001b[0;31mNameError\u001b[0m: name 'kfold' is not defined"
     ]
    }
   ],
   "source": [
    "# Embeddings\n",
    "precs_facenet_svm, recs_facenet_svm = [], []\n",
    "precs_facenet_knn, recs_facenet_knn = [], []\n",
    "\n",
    "\n",
    "# Recorre folds\n",
    "fold = 1\n",
    "while fold <= kfold:\n",
    "    accs, precs, recs = [], [], []\n",
    "    for train_index, test_index in skf.split(X, Y):\n",
    "        #print(\"TRAIN:\", train_index, \"TEST:\", test_index)\n",
    "        print(\"***\\nFold %d\" % fold)\n",
    "        #División de muestras de entreno y test\n",
    "        X_train, X_test = X[train_index], X[test_index]\n",
    "        #Etiquetas de las muestras\n",
    "        y_train, y_test = Y[train_index], Y[test_index]\n",
    "\n",
    "\n",
    "        #Facenet+KNN\n",
    "        y_pred, y_test = GetKNNPredictions(11, X_train, X_test,y_train, y_test)\n",
    "        print(\"\\nFacenet+KNN Metrics\")\n",
    "        precs_facenet_knn.append(precision_score(y_test, y_pred, average='weighted'))\n",
    "        recs_facenet_knn.append(recall_score(y_test, y_pred, average='weighted'))\n",
    "        print(classification_report(y_test, y_pred, target_names=class_names))\n",
    "        print(confusion_matrix(y_test, y_pred, labels=range(n_classes)))      \n",
    "            \n",
    "        #Facenet+SVM\n",
    "        y_pred, y_test = GetSVMPredictions(X_train, X_test,y_train, y_test)\n",
    "        print(\"\\nFacenet+SVM Metrics\")\n",
    "        precs_facenet_svm.append(precision_score(y_test, y_pred, average='weighted'))\n",
    "        recs_facenet_svm.append(recall_score(y_test, y_pred, average='weighted'))\n",
    "        print(classification_report(y_test, y_pred, target_names=class_names))\n",
    "        print(confusion_matrix(y_test, y_pred, labels=range(n_classes)))        \n",
    "    \n",
    "\n",
    "    fold += 1\n",
    "\n",
    "print(\"Facenet+KNN Mean Precision:  %0.3f, Mean Recall:  %0.3f\" % ( np.mean(precs_facenet_knn) , np.mean(recs_facenet_knn) ))\n",
    "print(\"Facenet+SVM Mean Precision:  %0.3f, Mean Recall:  %0.3f\" % ( np.mean(precs_facenet_svm) , np.mean(recs_facenet_svm) ))\n"
   ]
  },
  {
   "cell_type": "code",
   "execution_count": null,
   "id": "premium-accountability",
   "metadata": {},
   "outputs": [],
   "source": []
  }
 ],
 "metadata": {
  "kernelspec": {
   "display_name": "Python 3.9.0 ('deepface')",
   "language": "python",
   "name": "python3"
  },
  "language_info": {
   "codemirror_mode": {
    "name": "ipython",
    "version": 3
   },
   "file_extension": ".py",
   "mimetype": "text/x-python",
   "name": "python",
   "nbconvert_exporter": "python",
   "pygments_lexer": "ipython3",
   "version": "3.11.5"
  },
  "vscode": {
   "interpreter": {
    "hash": "12028effb1af0cd2244438ff9b17d06bb1d7695ec7a554a144e43ec4b8b79006"
   }
  }
 },
 "nbformat": 4,
 "nbformat_minor": 5
}
