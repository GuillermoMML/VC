{
 "cells": [
  {
   "cell_type": "markdown",
   "metadata": {},
   "source": [
    "#Paquetes necesarios"
   ]
  },
  {
   "cell_type": "code",
   "execution_count": 1,
   "metadata": {},
   "outputs": [],
   "source": [
    "import cv2  \n",
    "import math \n",
    "import os\n",
    "os.environ[\"KMP_DUPLICATE_LIB_OK\"]=\"FALSE\"\n",
    "from ultralytics import YOLO"
   ]
  },
  {
   "cell_type": "markdown",
   "metadata": {},
   "source": [
    "Desde cámara, detección con yolov8 y modelo nano"
   ]
  },
  {
   "cell_type": "markdown",
   "metadata": {},
   "source": [
    "Reconocimiento decaracteres tras instalar easyocr"
   ]
  },
  {
   "cell_type": "code",
   "execution_count": 4,
   "metadata": {},
   "outputs": [
    {
     "name": "stderr",
     "output_type": "stream",
     "text": [
      "Neither CUDA nor MPS are available - defaulting to CPU. Note: This module is much faster with a GPU.\n"
     ]
    },
    {
     "ename": "FileNotFoundError",
     "evalue": "[Errno 2] No such file or directory: './testing/prueba4.jpg'",
     "output_type": "error",
     "traceback": [
      "\u001b[1;31m---------------------------------------------------------------------------\u001b[0m",
      "\u001b[1;31mFileNotFoundError\u001b[0m                         Traceback (most recent call last)",
      "\u001b[1;32mc:\\Users\\guill\\OneDrive\\Documentos\\VC\\VC\\V1_p5\\VC_P5.ipynb Cell 5\u001b[0m line \u001b[0;36m1\n\u001b[0;32m     <a href='vscode-notebook-cell:/c%3A/Users/guill/OneDrive/Documentos/VC/VC/V1_p5/VC_P5.ipynb#W4sZmlsZQ%3D%3D?line=13'>14</a>\u001b[0m classNames \u001b[39m=\u001b[39m [\u001b[39m\"\u001b[39m\u001b[39mLicense-Plate\u001b[39m\u001b[39m\"\u001b[39m]\n\u001b[0;32m     <a href='vscode-notebook-cell:/c%3A/Users/guill/OneDrive/Documentos/VC/VC/V1_p5/VC_P5.ipynb#W4sZmlsZQ%3D%3D?line=14'>15</a>\u001b[0m reader \u001b[39m=\u001b[39m easyocr\u001b[39m.\u001b[39mReader([\u001b[39m'\u001b[39m\u001b[39mes\u001b[39m\u001b[39m'\u001b[39m]) \n\u001b[1;32m---> <a href='vscode-notebook-cell:/c%3A/Users/guill/OneDrive/Documentos/VC/VC/V1_p5/VC_P5.ipynb#W4sZmlsZQ%3D%3D?line=16'>17</a>\u001b[0m img \u001b[39m=\u001b[39m cv2\u001b[39m.\u001b[39;49mimread(\u001b[39m\"\u001b[39;49m\u001b[39m./testing/prueba4.jpg\u001b[39;49m\u001b[39m\"\u001b[39;49m)\n\u001b[0;32m     <a href='vscode-notebook-cell:/c%3A/Users/guill/OneDrive/Documentos/VC/VC/V1_p5/VC_P5.ipynb#W4sZmlsZQ%3D%3D?line=17'>18</a>\u001b[0m \u001b[39m# Captura desde lawebcam\u001b[39;00m\n\u001b[0;32m     <a href='vscode-notebook-cell:/c%3A/Users/guill/OneDrive/Documentos/VC/VC/V1_p5/VC_P5.ipynb#W4sZmlsZQ%3D%3D?line=18'>19</a>\u001b[0m img \u001b[39m=\u001b[39m cv2\u001b[39m.\u001b[39mresize(img,(\u001b[39m640\u001b[39m,\u001b[39m640\u001b[39m))\n",
      "File \u001b[1;32m~\\AppData\\Local\\Packages\\PythonSoftwareFoundation.Python.3.11_qbz5n2kfra8p0\\LocalCache\\local-packages\\Python311\\site-packages\\ultralytics\\utils\\patches.py:25\u001b[0m, in \u001b[0;36mimread\u001b[1;34m(filename, flags)\u001b[0m\n\u001b[0;32m     14\u001b[0m \u001b[39mdef\u001b[39;00m \u001b[39mimread\u001b[39m(filename: \u001b[39mstr\u001b[39m, flags: \u001b[39mint\u001b[39m \u001b[39m=\u001b[39m cv2\u001b[39m.\u001b[39mIMREAD_COLOR):\n\u001b[0;32m     15\u001b[0m \u001b[39m    \u001b[39m\u001b[39m\"\"\"\u001b[39;00m\n\u001b[0;32m     16\u001b[0m \u001b[39m    Read an image from a file.\u001b[39;00m\n\u001b[0;32m     17\u001b[0m \n\u001b[1;32m   (...)\u001b[0m\n\u001b[0;32m     23\u001b[0m \u001b[39m        (np.ndarray): The read image.\u001b[39;00m\n\u001b[0;32m     24\u001b[0m \u001b[39m    \"\"\"\u001b[39;00m\n\u001b[1;32m---> 25\u001b[0m     \u001b[39mreturn\u001b[39;00m cv2\u001b[39m.\u001b[39mimdecode(np\u001b[39m.\u001b[39;49mfromfile(filename, np\u001b[39m.\u001b[39;49muint8), flags)\n",
      "\u001b[1;31mFileNotFoundError\u001b[0m: [Errno 2] No such file or directory: './testing/prueba4.jpg'"
     ]
    }
   ],
   "source": [
    "# Carga del modelo\n",
    "import cv2  \n",
    "import numpy as np\n",
    "import matplotlib.pyplot as plt\n",
    "import os\n",
    "os.environ[\"KMP_DUPLICATE_LIB_OK\"]=\"FALSE\"\n",
    "from ultralytics import YOLO\n",
    "import easyocr\n",
    "\n",
    "\n",
    "model = YOLO('./model/last.pt')\n",
    "\n",
    "# Nombre de las distintas clases\n",
    "classNames = [\"License-Plate\"]\n",
    "reader = easyocr.Reader(['es']) \n",
    "\n",
    "img = cv2.imread(\"./testing/prueba4.jpeg\")\n",
    "# Captura desde lawebcam\n",
    "img = cv2.resize(img,(640,640))\n",
    "results = model(img)\n",
    "\n",
    "# Para cada detección de coche\n",
    "for r in results:\n",
    "    boxes = r.boxes\n",
    "\n",
    "    for box in boxes:\n",
    "        cls = int(box.cls[0])\n",
    "\n",
    "        # Filtrar para mostrar solo las matrículas\n",
    "        if classNames[cls] == \"License-Plate\":\n",
    "            # Obtener datos de la detección\n",
    "            x1, y1, x2, y2 = map(int, box.xyxy[0])  # convertir a enteros\n",
    "            plate= img[y1:y2, x1:x2]\n",
    "            result = reader.readtext(plate)\n",
    "            # Mostrar la caja delimitadora de la matrícula\n",
    "            cv2.rectangle(img, (x1, y1), (x2, y2), (0, 255, 0), 3)\n",
    "            cv2.putText(img, result[0][1], (x1, y1), cv2.FONT_HERSHEY_SIMPLEX, 0.7, (0, 255, 0), 2)\n",
    "\n",
    "# Guardar la imagen con las detecciones de matrículas\n",
    "output_image_path = './Results/filtrado_con_matriculas.jpg'\n",
    "cv2.imwrite(output_image_path, img)\n",
    "\n",
    "print(f\"Imagen con detecciones de matrículas guardada en: {output_image_path}\")\n",
    "\n",
    "#plt.axis(\"off\")\n",
    "#plt.imshow(output_image_path) \n",
    "#plt.show()\n"
   ]
  },
  {
   "cell_type": "code",
   "execution_count": null,
   "metadata": {},
   "outputs": [],
   "source": []
  }
 ],
 "metadata": {
  "kernelspec": {
   "display_name": "Python 3.9.13 ('yolov7')",
   "language": "python",
   "name": "python3"
  },
  "language_info": {
   "codemirror_mode": {
    "name": "ipython",
    "version": 3
   },
   "file_extension": ".py",
   "mimetype": "text/x-python",
   "name": "python",
   "nbconvert_exporter": "python",
   "pygments_lexer": "ipython3",
   "version": "3.11.6"
  },
  "orig_nbformat": 4,
  "vscode": {
   "interpreter": {
    "hash": "54711ba1bddc392d48ca20e80feaa9b2e23d43069aa8b98ed16355091034ff6e"
   }
  }
 },
 "nbformat": 4,
 "nbformat_minor": 2
}
